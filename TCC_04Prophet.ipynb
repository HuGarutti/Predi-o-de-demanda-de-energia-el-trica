{
  "nbformat": 4,
  "nbformat_minor": 0,
  "metadata": {
    "colab": {
      "provenance": [],
      "collapsed_sections": []
    },
    "kernelspec": {
      "name": "python3",
      "display_name": "Python 3"
    },
    "language_info": {
      "name": "python"
    }
  },
  "cells": [
    {
      "cell_type": "markdown",
      "source": [
        "# 6.Prophet"
      ],
      "metadata": {
        "id": "eage8p9nu6dd"
      }
    },
    {
      "cell_type": "code",
      "source": [
        "# INSTALAR ANTES\n",
        "!pip install pystan~=2.14\n",
        "!pip install fbprophet"
      ],
      "metadata": {
        "colab": {
          "base_uri": "https://localhost:8080/"
        },
        "id": "e2ksax7TD41T",
        "outputId": "b63e5195-3ddb-46ac-c56d-6c6683500888"
      },
      "execution_count": 8,
      "outputs": [
        {
          "output_type": "stream",
          "name": "stdout",
          "text": [
            "Looking in indexes: https://pypi.org/simple, https://us-python.pkg.dev/colab-wheels/public/simple/\n",
            "Collecting pystan~=2.14\n",
            "  Downloading pystan-2.19.1.1-cp37-cp37m-manylinux1_x86_64.whl (67.3 MB)\n",
            "\u001b[K     |████████████████████████████████| 67.3 MB 134 kB/s \n",
            "\u001b[?25hRequirement already satisfied: Cython!=0.25.1,>=0.22 in /usr/local/lib/python3.7/dist-packages (from pystan~=2.14) (0.29.32)\n",
            "Requirement already satisfied: numpy>=1.7 in /usr/local/lib/python3.7/dist-packages (from pystan~=2.14) (1.21.6)\n",
            "Installing collected packages: pystan\n",
            "  Attempting uninstall: pystan\n",
            "    Found existing installation: pystan 3.3.0\n",
            "    Uninstalling pystan-3.3.0:\n",
            "      Successfully uninstalled pystan-3.3.0\n",
            "Successfully installed pystan-2.19.1.1\n",
            "Looking in indexes: https://pypi.org/simple, https://us-python.pkg.dev/colab-wheels/public/simple/\n",
            "Collecting fbprophet\n",
            "  Downloading fbprophet-0.7.1.tar.gz (64 kB)\n",
            "\u001b[K     |████████████████████████████████| 64 kB 2.6 MB/s \n",
            "\u001b[?25hRequirement already satisfied: Cython>=0.22 in /usr/local/lib/python3.7/dist-packages (from fbprophet) (0.29.32)\n",
            "Collecting cmdstanpy==0.9.5\n",
            "  Downloading cmdstanpy-0.9.5-py3-none-any.whl (37 kB)\n",
            "Requirement already satisfied: pystan>=2.14 in /usr/local/lib/python3.7/dist-packages (from fbprophet) (2.19.1.1)\n",
            "Requirement already satisfied: numpy>=1.15.4 in /usr/local/lib/python3.7/dist-packages (from fbprophet) (1.21.6)\n",
            "Requirement already satisfied: pandas>=1.0.4 in /usr/local/lib/python3.7/dist-packages (from fbprophet) (1.3.5)\n",
            "Requirement already satisfied: matplotlib>=2.0.0 in /usr/local/lib/python3.7/dist-packages (from fbprophet) (3.2.2)\n",
            "Requirement already satisfied: LunarCalendar>=0.0.9 in /usr/local/lib/python3.7/dist-packages (from fbprophet) (0.0.9)\n",
            "Requirement already satisfied: convertdate>=2.1.2 in /usr/local/lib/python3.7/dist-packages (from fbprophet) (2.4.0)\n",
            "Requirement already satisfied: holidays>=0.10.2 in /usr/local/lib/python3.7/dist-packages (from fbprophet) (0.15)\n",
            "Requirement already satisfied: setuptools-git>=1.2 in /usr/local/lib/python3.7/dist-packages (from fbprophet) (1.2)\n",
            "Requirement already satisfied: python-dateutil>=2.8.0 in /usr/local/lib/python3.7/dist-packages (from fbprophet) (2.8.2)\n",
            "Requirement already satisfied: tqdm>=4.36.1 in /usr/local/lib/python3.7/dist-packages (from fbprophet) (4.64.1)\n",
            "Requirement already satisfied: pymeeus<=1,>=0.3.13 in /usr/local/lib/python3.7/dist-packages (from convertdate>=2.1.2->fbprophet) (0.5.11)\n",
            "Requirement already satisfied: korean-lunar-calendar in /usr/local/lib/python3.7/dist-packages (from holidays>=0.10.2->fbprophet) (0.2.1)\n",
            "Requirement already satisfied: hijri-converter in /usr/local/lib/python3.7/dist-packages (from holidays>=0.10.2->fbprophet) (2.2.4)\n",
            "Requirement already satisfied: ephem>=3.7.5.3 in /usr/local/lib/python3.7/dist-packages (from LunarCalendar>=0.0.9->fbprophet) (4.1.3)\n",
            "Requirement already satisfied: pytz in /usr/local/lib/python3.7/dist-packages (from LunarCalendar>=0.0.9->fbprophet) (2022.2.1)\n",
            "Requirement already satisfied: pyparsing!=2.0.4,!=2.1.2,!=2.1.6,>=2.0.1 in /usr/local/lib/python3.7/dist-packages (from matplotlib>=2.0.0->fbprophet) (3.0.9)\n",
            "Requirement already satisfied: kiwisolver>=1.0.1 in /usr/local/lib/python3.7/dist-packages (from matplotlib>=2.0.0->fbprophet) (1.4.4)\n",
            "Requirement already satisfied: cycler>=0.10 in /usr/local/lib/python3.7/dist-packages (from matplotlib>=2.0.0->fbprophet) (0.11.0)\n",
            "Requirement already satisfied: typing-extensions in /usr/local/lib/python3.7/dist-packages (from kiwisolver>=1.0.1->matplotlib>=2.0.0->fbprophet) (4.1.1)\n",
            "Requirement already satisfied: six>=1.5 in /usr/local/lib/python3.7/dist-packages (from python-dateutil>=2.8.0->fbprophet) (1.15.0)\n",
            "Building wheels for collected packages: fbprophet\n",
            "  Building wheel for fbprophet (setup.py) ... \u001b[?25l\u001b[?25hdone\n",
            "  Created wheel for fbprophet: filename=fbprophet-0.7.1-py3-none-any.whl size=6639122 sha256=8a9a35e2f2685ba0734ae9088233b72abcad895785d518b3aa79b857bf939b08\n",
            "  Stored in directory: /root/.cache/pip/wheels/cd/a1/12/db63ff624de492fe6cccf676091a0860fdde2ffde4bc3280e2\n",
            "Successfully built fbprophet\n",
            "Installing collected packages: cmdstanpy, fbprophet\n",
            "  Attempting uninstall: cmdstanpy\n",
            "    Found existing installation: cmdstanpy 1.0.7\n",
            "    Uninstalling cmdstanpy-1.0.7:\n",
            "      Successfully uninstalled cmdstanpy-1.0.7\n",
            "\u001b[31mERROR: pip's dependency resolver does not currently take into account all the packages that are installed. This behaviour is the source of the following dependency conflicts.\n",
            "prophet 1.1 requires cmdstanpy>=1.0.1, but you have cmdstanpy 0.9.5 which is incompatible.\u001b[0m\n",
            "Successfully installed cmdstanpy-0.9.5 fbprophet-0.7.1\n"
          ]
        }
      ]
    },
    {
      "cell_type": "code",
      "source": [
        "# Bibliotecas básicas \n",
        "import matplotlib.pyplot as plt\n",
        "import numpy as np \n",
        "import os \n",
        "import pandas as pd \n",
        "import seaborn as sns\n",
        "\n",
        "# Definições estéticas\n",
        "plt.style.use('ggplot')\n",
        "color_pal = sns.color_palette()\n",
        "sns.set(rc={'figure.figsize':(20,10)})"
      ],
      "metadata": {
        "id": "2EWmllM_CTiN"
      },
      "execution_count": 9,
      "outputs": []
    },
    {
      "cell_type": "code",
      "source": [
        "# Base de dados\n",
        "treino = pd.read_csv('/content/treino.csv')\n",
        "treino = treino.set_index('Datetime')\n",
        "treino.index = pd.to_datetime(treino.index)\n",
        "\n",
        "teste = pd.read_csv('/content/teste.csv')\n",
        "teste = teste.set_index('Datetime')\n",
        "teste.index = pd.to_datetime(teste.index)"
      ],
      "metadata": {
        "id": "PRwAQHX3CVc1"
      },
      "execution_count": 31,
      "outputs": []
    },
    {
      "cell_type": "code",
      "source": [
        "# Importando bibliotecas\n",
        "from fbprophet import Prophet\n",
        "from sklearn.metrics import mean_squared_error, mean_absolute_error"
      ],
      "metadata": {
        "id": "kpKZErD8vIvc"
      },
      "execution_count": 32,
      "outputs": []
    },
    {
      "cell_type": "code",
      "source": [
        "# Função para criar características do datetime e separar X e y\n",
        "# X são as variáveis e y é o dado de interesse\n",
        "def create_xy(df, label=None):\n",
        "    \"\"\"\n",
        "    Creates time series features from datetime index\n",
        "    \"\"\"\n",
        "    df['date'] = df.index\n",
        "    df['hour'] = df['date'].dt.hour\n",
        "    df['dayofweek'] = df['date'].dt.dayofweek\n",
        "    df['quarter'] = df['date'].dt.quarter\n",
        "    df['month'] = df['date'].dt.month\n",
        "    df['year'] = df['date'].dt.year\n",
        "    df['dayofyear'] = df['date'].dt.dayofyear\n",
        "    df['dayofmonth'] = df['date'].dt.day\n",
        "    df['weekofyear'] = df['date'].dt.weekofyear\n",
        "    \n",
        "    X = df[['hour','dayofweek','quarter','month','year',\n",
        "           'dayofyear','dayofmonth','weekofyear']]\n",
        "    if label:\n",
        "        y = df[label]\n",
        "        return X, y\n",
        "    return X"
      ],
      "metadata": {
        "id": "VVI2EFg1C_hT"
      },
      "execution_count": 33,
      "outputs": []
    },
    {
      "cell_type": "code",
      "source": [
        "X_treino, y_treino = create_xy(treino, label='PJME_MW')\n",
        "X_teste, y_teste = create_xy(teste, label='PJME_MW')"
      ],
      "metadata": {
        "colab": {
          "base_uri": "https://localhost:8080/"
        },
        "id": "nz5GV1EMDw4Z",
        "outputId": "0d87f25d-412d-4bb7-84e0-e7430e806e6e"
      },
      "execution_count": 34,
      "outputs": [
        {
          "output_type": "stream",
          "name": "stderr",
          "text": [
            "/usr/local/lib/python3.7/dist-packages/ipykernel_launcher.py:15: FutureWarning: Series.dt.weekofyear and Series.dt.week have been deprecated.  Please use Series.dt.isocalendar().week instead.\n",
            "  from ipykernel import kernelapp as app\n"
          ]
        }
      ]
    },
    {
      "cell_type": "code",
      "source": [
        "# Precisei imporatar a base de dados novamente\n",
        "# A célular anterior modificava 'treino' e 'teste' além de criar as  X e y\n",
        "treino = pd.read_csv('/content/treino.csv')\n",
        "treino = treino.set_index('Datetime')\n",
        "treino.index = pd.to_datetime(treino.index)\n",
        "\n",
        "teste = pd.read_csv('/content/teste.csv')\n",
        "teste = teste.set_index('Datetime')\n",
        "teste.index = pd.to_datetime(teste.index)"
      ],
      "metadata": {
        "id": "WMwTNnxsHNb9"
      },
      "execution_count": 35,
      "outputs": []
    },
    {
      "cell_type": "code",
      "source": [
        "treino.head()"
      ],
      "metadata": {
        "colab": {
          "base_uri": "https://localhost:8080/",
          "height": 238
        },
        "id": "5cgHNQ5tHKeN",
        "outputId": "abc219d5-adc2-4985-b9b5-e71d9fb51f66"
      },
      "execution_count": 36,
      "outputs": [
        {
          "output_type": "execute_result",
          "data": {
            "text/plain": [
              "                     PJME_MW\n",
              "Datetime                    \n",
              "2002-12-31 01:00:00  26498.0\n",
              "2002-12-31 02:00:00  25147.0\n",
              "2002-12-31 03:00:00  24574.0\n",
              "2002-12-31 04:00:00  24393.0\n",
              "2002-12-31 05:00:00  24860.0"
            ],
            "text/html": [
              "\n",
              "  <div id=\"df-0c329f5f-8281-4085-a457-520538a2ac09\">\n",
              "    <div class=\"colab-df-container\">\n",
              "      <div>\n",
              "<style scoped>\n",
              "    .dataframe tbody tr th:only-of-type {\n",
              "        vertical-align: middle;\n",
              "    }\n",
              "\n",
              "    .dataframe tbody tr th {\n",
              "        vertical-align: top;\n",
              "    }\n",
              "\n",
              "    .dataframe thead th {\n",
              "        text-align: right;\n",
              "    }\n",
              "</style>\n",
              "<table border=\"1\" class=\"dataframe\">\n",
              "  <thead>\n",
              "    <tr style=\"text-align: right;\">\n",
              "      <th></th>\n",
              "      <th>PJME_MW</th>\n",
              "    </tr>\n",
              "    <tr>\n",
              "      <th>Datetime</th>\n",
              "      <th></th>\n",
              "    </tr>\n",
              "  </thead>\n",
              "  <tbody>\n",
              "    <tr>\n",
              "      <th>2002-12-31 01:00:00</th>\n",
              "      <td>26498.0</td>\n",
              "    </tr>\n",
              "    <tr>\n",
              "      <th>2002-12-31 02:00:00</th>\n",
              "      <td>25147.0</td>\n",
              "    </tr>\n",
              "    <tr>\n",
              "      <th>2002-12-31 03:00:00</th>\n",
              "      <td>24574.0</td>\n",
              "    </tr>\n",
              "    <tr>\n",
              "      <th>2002-12-31 04:00:00</th>\n",
              "      <td>24393.0</td>\n",
              "    </tr>\n",
              "    <tr>\n",
              "      <th>2002-12-31 05:00:00</th>\n",
              "      <td>24860.0</td>\n",
              "    </tr>\n",
              "  </tbody>\n",
              "</table>\n",
              "</div>\n",
              "      <button class=\"colab-df-convert\" onclick=\"convertToInteractive('df-0c329f5f-8281-4085-a457-520538a2ac09')\"\n",
              "              title=\"Convert this dataframe to an interactive table.\"\n",
              "              style=\"display:none;\">\n",
              "        \n",
              "  <svg xmlns=\"http://www.w3.org/2000/svg\" height=\"24px\"viewBox=\"0 0 24 24\"\n",
              "       width=\"24px\">\n",
              "    <path d=\"M0 0h24v24H0V0z\" fill=\"none\"/>\n",
              "    <path d=\"M18.56 5.44l.94 2.06.94-2.06 2.06-.94-2.06-.94-.94-2.06-.94 2.06-2.06.94zm-11 1L8.5 8.5l.94-2.06 2.06-.94-2.06-.94L8.5 2.5l-.94 2.06-2.06.94zm10 10l.94 2.06.94-2.06 2.06-.94-2.06-.94-.94-2.06-.94 2.06-2.06.94z\"/><path d=\"M17.41 7.96l-1.37-1.37c-.4-.4-.92-.59-1.43-.59-.52 0-1.04.2-1.43.59L10.3 9.45l-7.72 7.72c-.78.78-.78 2.05 0 2.83L4 21.41c.39.39.9.59 1.41.59.51 0 1.02-.2 1.41-.59l7.78-7.78 2.81-2.81c.8-.78.8-2.07 0-2.86zM5.41 20L4 18.59l7.72-7.72 1.47 1.35L5.41 20z\"/>\n",
              "  </svg>\n",
              "      </button>\n",
              "      \n",
              "  <style>\n",
              "    .colab-df-container {\n",
              "      display:flex;\n",
              "      flex-wrap:wrap;\n",
              "      gap: 12px;\n",
              "    }\n",
              "\n",
              "    .colab-df-convert {\n",
              "      background-color: #E8F0FE;\n",
              "      border: none;\n",
              "      border-radius: 50%;\n",
              "      cursor: pointer;\n",
              "      display: none;\n",
              "      fill: #1967D2;\n",
              "      height: 32px;\n",
              "      padding: 0 0 0 0;\n",
              "      width: 32px;\n",
              "    }\n",
              "\n",
              "    .colab-df-convert:hover {\n",
              "      background-color: #E2EBFA;\n",
              "      box-shadow: 0px 1px 2px rgba(60, 64, 67, 0.3), 0px 1px 3px 1px rgba(60, 64, 67, 0.15);\n",
              "      fill: #174EA6;\n",
              "    }\n",
              "\n",
              "    [theme=dark] .colab-df-convert {\n",
              "      background-color: #3B4455;\n",
              "      fill: #D2E3FC;\n",
              "    }\n",
              "\n",
              "    [theme=dark] .colab-df-convert:hover {\n",
              "      background-color: #434B5C;\n",
              "      box-shadow: 0px 1px 3px 1px rgba(0, 0, 0, 0.15);\n",
              "      filter: drop-shadow(0px 1px 2px rgba(0, 0, 0, 0.3));\n",
              "      fill: #FFFFFF;\n",
              "    }\n",
              "  </style>\n",
              "\n",
              "      <script>\n",
              "        const buttonEl =\n",
              "          document.querySelector('#df-0c329f5f-8281-4085-a457-520538a2ac09 button.colab-df-convert');\n",
              "        buttonEl.style.display =\n",
              "          google.colab.kernel.accessAllowed ? 'block' : 'none';\n",
              "\n",
              "        async function convertToInteractive(key) {\n",
              "          const element = document.querySelector('#df-0c329f5f-8281-4085-a457-520538a2ac09');\n",
              "          const dataTable =\n",
              "            await google.colab.kernel.invokeFunction('convertToInteractive',\n",
              "                                                     [key], {});\n",
              "          if (!dataTable) return;\n",
              "\n",
              "          const docLinkHtml = 'Like what you see? Visit the ' +\n",
              "            '<a target=\"_blank\" href=https://colab.research.google.com/notebooks/data_table.ipynb>data table notebook</a>'\n",
              "            + ' to learn more about interactive tables.';\n",
              "          element.innerHTML = '';\n",
              "          dataTable['output_type'] = 'display_data';\n",
              "          await google.colab.output.renderOutput(dataTable, element);\n",
              "          const docLink = document.createElement('div');\n",
              "          docLink.innerHTML = docLinkHtml;\n",
              "          element.appendChild(docLink);\n",
              "        }\n",
              "      </script>\n",
              "    </div>\n",
              "  </div>\n",
              "  "
            ]
          },
          "metadata": {},
          "execution_count": 36
        }
      ]
    },
    {
      "cell_type": "code",
      "source": [
        "# Formatar base de dados para o formato do Prophet, usando 'ds' e 'y'\n",
        "treino.reset_index() \\\n",
        "      .rename(columns={'Datetime':'ds',\n",
        "                      'PJME_MW':'y'}).head()"
      ],
      "metadata": {
        "id": "dFhnxZwXvixX",
        "colab": {
          "base_uri": "https://localhost:8080/",
          "height": 206
        },
        "outputId": "935faa11-21f0-40c7-f37a-1de560f82ed2"
      },
      "execution_count": 37,
      "outputs": [
        {
          "output_type": "execute_result",
          "data": {
            "text/plain": [
              "                   ds        y\n",
              "0 2002-12-31 01:00:00  26498.0\n",
              "1 2002-12-31 02:00:00  25147.0\n",
              "2 2002-12-31 03:00:00  24574.0\n",
              "3 2002-12-31 04:00:00  24393.0\n",
              "4 2002-12-31 05:00:00  24860.0"
            ],
            "text/html": [
              "\n",
              "  <div id=\"df-d6d0a76c-31d0-4195-b3e7-334dc56d239d\">\n",
              "    <div class=\"colab-df-container\">\n",
              "      <div>\n",
              "<style scoped>\n",
              "    .dataframe tbody tr th:only-of-type {\n",
              "        vertical-align: middle;\n",
              "    }\n",
              "\n",
              "    .dataframe tbody tr th {\n",
              "        vertical-align: top;\n",
              "    }\n",
              "\n",
              "    .dataframe thead th {\n",
              "        text-align: right;\n",
              "    }\n",
              "</style>\n",
              "<table border=\"1\" class=\"dataframe\">\n",
              "  <thead>\n",
              "    <tr style=\"text-align: right;\">\n",
              "      <th></th>\n",
              "      <th>ds</th>\n",
              "      <th>y</th>\n",
              "    </tr>\n",
              "  </thead>\n",
              "  <tbody>\n",
              "    <tr>\n",
              "      <th>0</th>\n",
              "      <td>2002-12-31 01:00:00</td>\n",
              "      <td>26498.0</td>\n",
              "    </tr>\n",
              "    <tr>\n",
              "      <th>1</th>\n",
              "      <td>2002-12-31 02:00:00</td>\n",
              "      <td>25147.0</td>\n",
              "    </tr>\n",
              "    <tr>\n",
              "      <th>2</th>\n",
              "      <td>2002-12-31 03:00:00</td>\n",
              "      <td>24574.0</td>\n",
              "    </tr>\n",
              "    <tr>\n",
              "      <th>3</th>\n",
              "      <td>2002-12-31 04:00:00</td>\n",
              "      <td>24393.0</td>\n",
              "    </tr>\n",
              "    <tr>\n",
              "      <th>4</th>\n",
              "      <td>2002-12-31 05:00:00</td>\n",
              "      <td>24860.0</td>\n",
              "    </tr>\n",
              "  </tbody>\n",
              "</table>\n",
              "</div>\n",
              "      <button class=\"colab-df-convert\" onclick=\"convertToInteractive('df-d6d0a76c-31d0-4195-b3e7-334dc56d239d')\"\n",
              "              title=\"Convert this dataframe to an interactive table.\"\n",
              "              style=\"display:none;\">\n",
              "        \n",
              "  <svg xmlns=\"http://www.w3.org/2000/svg\" height=\"24px\"viewBox=\"0 0 24 24\"\n",
              "       width=\"24px\">\n",
              "    <path d=\"M0 0h24v24H0V0z\" fill=\"none\"/>\n",
              "    <path d=\"M18.56 5.44l.94 2.06.94-2.06 2.06-.94-2.06-.94-.94-2.06-.94 2.06-2.06.94zm-11 1L8.5 8.5l.94-2.06 2.06-.94-2.06-.94L8.5 2.5l-.94 2.06-2.06.94zm10 10l.94 2.06.94-2.06 2.06-.94-2.06-.94-.94-2.06-.94 2.06-2.06.94z\"/><path d=\"M17.41 7.96l-1.37-1.37c-.4-.4-.92-.59-1.43-.59-.52 0-1.04.2-1.43.59L10.3 9.45l-7.72 7.72c-.78.78-.78 2.05 0 2.83L4 21.41c.39.39.9.59 1.41.59.51 0 1.02-.2 1.41-.59l7.78-7.78 2.81-2.81c.8-.78.8-2.07 0-2.86zM5.41 20L4 18.59l7.72-7.72 1.47 1.35L5.41 20z\"/>\n",
              "  </svg>\n",
              "      </button>\n",
              "      \n",
              "  <style>\n",
              "    .colab-df-container {\n",
              "      display:flex;\n",
              "      flex-wrap:wrap;\n",
              "      gap: 12px;\n",
              "    }\n",
              "\n",
              "    .colab-df-convert {\n",
              "      background-color: #E8F0FE;\n",
              "      border: none;\n",
              "      border-radius: 50%;\n",
              "      cursor: pointer;\n",
              "      display: none;\n",
              "      fill: #1967D2;\n",
              "      height: 32px;\n",
              "      padding: 0 0 0 0;\n",
              "      width: 32px;\n",
              "    }\n",
              "\n",
              "    .colab-df-convert:hover {\n",
              "      background-color: #E2EBFA;\n",
              "      box-shadow: 0px 1px 2px rgba(60, 64, 67, 0.3), 0px 1px 3px 1px rgba(60, 64, 67, 0.15);\n",
              "      fill: #174EA6;\n",
              "    }\n",
              "\n",
              "    [theme=dark] .colab-df-convert {\n",
              "      background-color: #3B4455;\n",
              "      fill: #D2E3FC;\n",
              "    }\n",
              "\n",
              "    [theme=dark] .colab-df-convert:hover {\n",
              "      background-color: #434B5C;\n",
              "      box-shadow: 0px 1px 3px 1px rgba(0, 0, 0, 0.15);\n",
              "      filter: drop-shadow(0px 1px 2px rgba(0, 0, 0, 0.3));\n",
              "      fill: #FFFFFF;\n",
              "    }\n",
              "  </style>\n",
              "\n",
              "      <script>\n",
              "        const buttonEl =\n",
              "          document.querySelector('#df-d6d0a76c-31d0-4195-b3e7-334dc56d239d button.colab-df-convert');\n",
              "        buttonEl.style.display =\n",
              "          google.colab.kernel.accessAllowed ? 'block' : 'none';\n",
              "\n",
              "        async function convertToInteractive(key) {\n",
              "          const element = document.querySelector('#df-d6d0a76c-31d0-4195-b3e7-334dc56d239d');\n",
              "          const dataTable =\n",
              "            await google.colab.kernel.invokeFunction('convertToInteractive',\n",
              "                                                     [key], {});\n",
              "          if (!dataTable) return;\n",
              "\n",
              "          const docLinkHtml = 'Like what you see? Visit the ' +\n",
              "            '<a target=\"_blank\" href=https://colab.research.google.com/notebooks/data_table.ipynb>data table notebook</a>'\n",
              "            + ' to learn more about interactive tables.';\n",
              "          element.innerHTML = '';\n",
              "          dataTable['output_type'] = 'display_data';\n",
              "          await google.colab.output.renderOutput(dataTable, element);\n",
              "          const docLink = document.createElement('div');\n",
              "          docLink.innerHTML = docLinkHtml;\n",
              "          element.appendChild(docLink);\n",
              "        }\n",
              "      </script>\n",
              "    </div>\n",
              "  </div>\n",
              "  "
            ]
          },
          "metadata": {},
          "execution_count": 37
        }
      ]
    },
    {
      "cell_type": "code",
      "source": [
        "# Preparar e treinar o modelo\n",
        "model = Prophet()\n",
        "model.fit(treino.reset_index() \\\n",
        "              .rename(columns={'Datetime':'ds',\n",
        "                               'PJME_MW':'y'}))"
      ],
      "metadata": {
        "id": "voE_n91evko7",
        "colab": {
          "base_uri": "https://localhost:8080/"
        },
        "outputId": "6f10149d-5e57-42e6-f1f1-04834dc5641e"
      },
      "execution_count": 38,
      "outputs": [
        {
          "output_type": "execute_result",
          "data": {
            "text/plain": [
              "<fbprophet.forecaster.Prophet at 0x7f6973000690>"
            ]
          },
          "metadata": {},
          "execution_count": 38
        }
      ]
    },
    {
      "cell_type": "code",
      "source": [
        "# Previsao com o modelo treinado\n",
        "# Predict on training set with model\n",
        "previsao_prophet = model.predict(df=teste.reset_index() \\\n",
        "                                   .rename(columns={'Datetime':'ds'}))"
      ],
      "metadata": {
        "id": "rYDkGkvMvlLT"
      },
      "execution_count": 40,
      "outputs": []
    },
    {
      "cell_type": "code",
      "source": [
        "# O Prophet devolve muitos itens\n",
        "# A previsao é o 'yhat'\n",
        "previsao_prophet.head()"
      ],
      "metadata": {
        "id": "MJoGJouDvnC7",
        "colab": {
          "base_uri": "https://localhost:8080/",
          "height": 473
        },
        "outputId": "1f1b40c2-37fc-4c9a-a98a-0214542805f3"
      },
      "execution_count": 41,
      "outputs": [
        {
          "output_type": "execute_result",
          "data": {
            "text/plain": [
              "                   ds         trend    yhat_lower    yhat_upper   trend_lower  \\\n",
              "0 2015-01-01 00:00:00  31203.026169  25518.177102  34666.898730  31203.026169   \n",
              "1 2015-01-01 01:00:00  31202.987858  23836.271860  32870.058419  31202.987858   \n",
              "2 2015-01-01 02:00:00  31202.949546  22348.660108  31284.880066  31202.949546   \n",
              "3 2015-01-01 03:00:00  31202.911235  21228.296780  30335.511713  31202.911235   \n",
              "4 2015-01-01 04:00:00  31202.872924  21579.657847  30406.788322  31202.872924   \n",
              "\n",
              "    trend_upper  additive_terms  additive_terms_lower  additive_terms_upper  \\\n",
              "0  31203.026169     -814.311297           -814.311297           -814.311297   \n",
              "1  31202.987858    -2838.630791          -2838.630791          -2838.630791   \n",
              "2  31202.949546    -4342.880735          -4342.880735          -4342.880735   \n",
              "3  31202.911235    -5214.491338          -5214.491338          -5214.491338   \n",
              "4  31202.872924    -5356.035008          -5356.035008          -5356.035008   \n",
              "\n",
              "         daily  ...       weekly  weekly_lower  weekly_upper      yearly  \\\n",
              "0 -2412.321635  ...  1288.719052   1288.719052   1288.719052  309.291286   \n",
              "1 -4430.468275  ...  1281.275847   1281.275847   1281.275847  310.561637   \n",
              "2 -5927.273753  ...  1272.519555   1272.519555   1272.519555  311.873462   \n",
              "3 -6790.276523  ...  1262.558395   1262.558395   1262.558395  313.226790   \n",
              "4 -6922.172576  ...  1251.515922   1251.515922   1251.515922  314.621646   \n",
              "\n",
              "   yearly_lower  yearly_upper  multiplicative_terms  \\\n",
              "0    309.291286    309.291286                   0.0   \n",
              "1    310.561637    310.561637                   0.0   \n",
              "2    311.873462    311.873462                   0.0   \n",
              "3    313.226790    313.226790                   0.0   \n",
              "4    314.621646    314.621646                   0.0   \n",
              "\n",
              "   multiplicative_terms_lower  multiplicative_terms_upper          yhat  \n",
              "0                         0.0                         0.0  30388.714872  \n",
              "1                         0.0                         0.0  28364.357067  \n",
              "2                         0.0                         0.0  26860.068811  \n",
              "3                         0.0                         0.0  25988.419897  \n",
              "4                         0.0                         0.0  25846.837916  \n",
              "\n",
              "[5 rows x 22 columns]"
            ],
            "text/html": [
              "\n",
              "  <div id=\"df-cd3e21c8-492c-4a19-815f-04b1c277ffcb\">\n",
              "    <div class=\"colab-df-container\">\n",
              "      <div>\n",
              "<style scoped>\n",
              "    .dataframe tbody tr th:only-of-type {\n",
              "        vertical-align: middle;\n",
              "    }\n",
              "\n",
              "    .dataframe tbody tr th {\n",
              "        vertical-align: top;\n",
              "    }\n",
              "\n",
              "    .dataframe thead th {\n",
              "        text-align: right;\n",
              "    }\n",
              "</style>\n",
              "<table border=\"1\" class=\"dataframe\">\n",
              "  <thead>\n",
              "    <tr style=\"text-align: right;\">\n",
              "      <th></th>\n",
              "      <th>ds</th>\n",
              "      <th>trend</th>\n",
              "      <th>yhat_lower</th>\n",
              "      <th>yhat_upper</th>\n",
              "      <th>trend_lower</th>\n",
              "      <th>trend_upper</th>\n",
              "      <th>additive_terms</th>\n",
              "      <th>additive_terms_lower</th>\n",
              "      <th>additive_terms_upper</th>\n",
              "      <th>daily</th>\n",
              "      <th>...</th>\n",
              "      <th>weekly</th>\n",
              "      <th>weekly_lower</th>\n",
              "      <th>weekly_upper</th>\n",
              "      <th>yearly</th>\n",
              "      <th>yearly_lower</th>\n",
              "      <th>yearly_upper</th>\n",
              "      <th>multiplicative_terms</th>\n",
              "      <th>multiplicative_terms_lower</th>\n",
              "      <th>multiplicative_terms_upper</th>\n",
              "      <th>yhat</th>\n",
              "    </tr>\n",
              "  </thead>\n",
              "  <tbody>\n",
              "    <tr>\n",
              "      <th>0</th>\n",
              "      <td>2015-01-01 00:00:00</td>\n",
              "      <td>31203.026169</td>\n",
              "      <td>25518.177102</td>\n",
              "      <td>34666.898730</td>\n",
              "      <td>31203.026169</td>\n",
              "      <td>31203.026169</td>\n",
              "      <td>-814.311297</td>\n",
              "      <td>-814.311297</td>\n",
              "      <td>-814.311297</td>\n",
              "      <td>-2412.321635</td>\n",
              "      <td>...</td>\n",
              "      <td>1288.719052</td>\n",
              "      <td>1288.719052</td>\n",
              "      <td>1288.719052</td>\n",
              "      <td>309.291286</td>\n",
              "      <td>309.291286</td>\n",
              "      <td>309.291286</td>\n",
              "      <td>0.0</td>\n",
              "      <td>0.0</td>\n",
              "      <td>0.0</td>\n",
              "      <td>30388.714872</td>\n",
              "    </tr>\n",
              "    <tr>\n",
              "      <th>1</th>\n",
              "      <td>2015-01-01 01:00:00</td>\n",
              "      <td>31202.987858</td>\n",
              "      <td>23836.271860</td>\n",
              "      <td>32870.058419</td>\n",
              "      <td>31202.987858</td>\n",
              "      <td>31202.987858</td>\n",
              "      <td>-2838.630791</td>\n",
              "      <td>-2838.630791</td>\n",
              "      <td>-2838.630791</td>\n",
              "      <td>-4430.468275</td>\n",
              "      <td>...</td>\n",
              "      <td>1281.275847</td>\n",
              "      <td>1281.275847</td>\n",
              "      <td>1281.275847</td>\n",
              "      <td>310.561637</td>\n",
              "      <td>310.561637</td>\n",
              "      <td>310.561637</td>\n",
              "      <td>0.0</td>\n",
              "      <td>0.0</td>\n",
              "      <td>0.0</td>\n",
              "      <td>28364.357067</td>\n",
              "    </tr>\n",
              "    <tr>\n",
              "      <th>2</th>\n",
              "      <td>2015-01-01 02:00:00</td>\n",
              "      <td>31202.949546</td>\n",
              "      <td>22348.660108</td>\n",
              "      <td>31284.880066</td>\n",
              "      <td>31202.949546</td>\n",
              "      <td>31202.949546</td>\n",
              "      <td>-4342.880735</td>\n",
              "      <td>-4342.880735</td>\n",
              "      <td>-4342.880735</td>\n",
              "      <td>-5927.273753</td>\n",
              "      <td>...</td>\n",
              "      <td>1272.519555</td>\n",
              "      <td>1272.519555</td>\n",
              "      <td>1272.519555</td>\n",
              "      <td>311.873462</td>\n",
              "      <td>311.873462</td>\n",
              "      <td>311.873462</td>\n",
              "      <td>0.0</td>\n",
              "      <td>0.0</td>\n",
              "      <td>0.0</td>\n",
              "      <td>26860.068811</td>\n",
              "    </tr>\n",
              "    <tr>\n",
              "      <th>3</th>\n",
              "      <td>2015-01-01 03:00:00</td>\n",
              "      <td>31202.911235</td>\n",
              "      <td>21228.296780</td>\n",
              "      <td>30335.511713</td>\n",
              "      <td>31202.911235</td>\n",
              "      <td>31202.911235</td>\n",
              "      <td>-5214.491338</td>\n",
              "      <td>-5214.491338</td>\n",
              "      <td>-5214.491338</td>\n",
              "      <td>-6790.276523</td>\n",
              "      <td>...</td>\n",
              "      <td>1262.558395</td>\n",
              "      <td>1262.558395</td>\n",
              "      <td>1262.558395</td>\n",
              "      <td>313.226790</td>\n",
              "      <td>313.226790</td>\n",
              "      <td>313.226790</td>\n",
              "      <td>0.0</td>\n",
              "      <td>0.0</td>\n",
              "      <td>0.0</td>\n",
              "      <td>25988.419897</td>\n",
              "    </tr>\n",
              "    <tr>\n",
              "      <th>4</th>\n",
              "      <td>2015-01-01 04:00:00</td>\n",
              "      <td>31202.872924</td>\n",
              "      <td>21579.657847</td>\n",
              "      <td>30406.788322</td>\n",
              "      <td>31202.872924</td>\n",
              "      <td>31202.872924</td>\n",
              "      <td>-5356.035008</td>\n",
              "      <td>-5356.035008</td>\n",
              "      <td>-5356.035008</td>\n",
              "      <td>-6922.172576</td>\n",
              "      <td>...</td>\n",
              "      <td>1251.515922</td>\n",
              "      <td>1251.515922</td>\n",
              "      <td>1251.515922</td>\n",
              "      <td>314.621646</td>\n",
              "      <td>314.621646</td>\n",
              "      <td>314.621646</td>\n",
              "      <td>0.0</td>\n",
              "      <td>0.0</td>\n",
              "      <td>0.0</td>\n",
              "      <td>25846.837916</td>\n",
              "    </tr>\n",
              "  </tbody>\n",
              "</table>\n",
              "<p>5 rows × 22 columns</p>\n",
              "</div>\n",
              "      <button class=\"colab-df-convert\" onclick=\"convertToInteractive('df-cd3e21c8-492c-4a19-815f-04b1c277ffcb')\"\n",
              "              title=\"Convert this dataframe to an interactive table.\"\n",
              "              style=\"display:none;\">\n",
              "        \n",
              "  <svg xmlns=\"http://www.w3.org/2000/svg\" height=\"24px\"viewBox=\"0 0 24 24\"\n",
              "       width=\"24px\">\n",
              "    <path d=\"M0 0h24v24H0V0z\" fill=\"none\"/>\n",
              "    <path d=\"M18.56 5.44l.94 2.06.94-2.06 2.06-.94-2.06-.94-.94-2.06-.94 2.06-2.06.94zm-11 1L8.5 8.5l.94-2.06 2.06-.94-2.06-.94L8.5 2.5l-.94 2.06-2.06.94zm10 10l.94 2.06.94-2.06 2.06-.94-2.06-.94-.94-2.06-.94 2.06-2.06.94z\"/><path d=\"M17.41 7.96l-1.37-1.37c-.4-.4-.92-.59-1.43-.59-.52 0-1.04.2-1.43.59L10.3 9.45l-7.72 7.72c-.78.78-.78 2.05 0 2.83L4 21.41c.39.39.9.59 1.41.59.51 0 1.02-.2 1.41-.59l7.78-7.78 2.81-2.81c.8-.78.8-2.07 0-2.86zM5.41 20L4 18.59l7.72-7.72 1.47 1.35L5.41 20z\"/>\n",
              "  </svg>\n",
              "      </button>\n",
              "      \n",
              "  <style>\n",
              "    .colab-df-container {\n",
              "      display:flex;\n",
              "      flex-wrap:wrap;\n",
              "      gap: 12px;\n",
              "    }\n",
              "\n",
              "    .colab-df-convert {\n",
              "      background-color: #E8F0FE;\n",
              "      border: none;\n",
              "      border-radius: 50%;\n",
              "      cursor: pointer;\n",
              "      display: none;\n",
              "      fill: #1967D2;\n",
              "      height: 32px;\n",
              "      padding: 0 0 0 0;\n",
              "      width: 32px;\n",
              "    }\n",
              "\n",
              "    .colab-df-convert:hover {\n",
              "      background-color: #E2EBFA;\n",
              "      box-shadow: 0px 1px 2px rgba(60, 64, 67, 0.3), 0px 1px 3px 1px rgba(60, 64, 67, 0.15);\n",
              "      fill: #174EA6;\n",
              "    }\n",
              "\n",
              "    [theme=dark] .colab-df-convert {\n",
              "      background-color: #3B4455;\n",
              "      fill: #D2E3FC;\n",
              "    }\n",
              "\n",
              "    [theme=dark] .colab-df-convert:hover {\n",
              "      background-color: #434B5C;\n",
              "      box-shadow: 0px 1px 3px 1px rgba(0, 0, 0, 0.15);\n",
              "      filter: drop-shadow(0px 1px 2px rgba(0, 0, 0, 0.3));\n",
              "      fill: #FFFFFF;\n",
              "    }\n",
              "  </style>\n",
              "\n",
              "      <script>\n",
              "        const buttonEl =\n",
              "          document.querySelector('#df-cd3e21c8-492c-4a19-815f-04b1c277ffcb button.colab-df-convert');\n",
              "        buttonEl.style.display =\n",
              "          google.colab.kernel.accessAllowed ? 'block' : 'none';\n",
              "\n",
              "        async function convertToInteractive(key) {\n",
              "          const element = document.querySelector('#df-cd3e21c8-492c-4a19-815f-04b1c277ffcb');\n",
              "          const dataTable =\n",
              "            await google.colab.kernel.invokeFunction('convertToInteractive',\n",
              "                                                     [key], {});\n",
              "          if (!dataTable) return;\n",
              "\n",
              "          const docLinkHtml = 'Like what you see? Visit the ' +\n",
              "            '<a target=\"_blank\" href=https://colab.research.google.com/notebooks/data_table.ipynb>data table notebook</a>'\n",
              "            + ' to learn more about interactive tables.';\n",
              "          element.innerHTML = '';\n",
              "          dataTable['output_type'] = 'display_data';\n",
              "          await google.colab.output.renderOutput(dataTable, element);\n",
              "          const docLink = document.createElement('div');\n",
              "          docLink.innerHTML = docLinkHtml;\n",
              "          element.appendChild(docLink);\n",
              "        }\n",
              "      </script>\n",
              "    </div>\n",
              "  </div>\n",
              "  "
            ]
          },
          "metadata": {},
          "execution_count": 41
        }
      ]
    },
    {
      "cell_type": "code",
      "source": [
        "# Plotar os componentes do modelo\n",
        "# fig = model.plot_components(pjme_test_fcst)"
      ],
      "metadata": {
        "id": "alJ_7OfMvqmm"
      },
      "execution_count": 39,
      "outputs": []
    },
    {
      "cell_type": "code",
      "source": [
        "previsao_prophet = pd.Series(previsao_prophet.yhat.to_numpy(), index = teste.index)"
      ],
      "metadata": {
        "id": "WQB2fvGvcKH_"
      },
      "execution_count": 45,
      "outputs": []
    },
    {
      "cell_type": "code",
      "source": [
        "# Plotando o gráfco\n",
        "treino['PJME_MW'].plot(legend=True, label='Treino', color=color_pal[1]) \n",
        "teste['PJME_MW'].plot(legend=True, label='Teste', color=color_pal[0])\n",
        "\n",
        "previsao_prophet.plot(legend=True, label='Prophet', color=color_pal[2])\n",
        "\n",
        "plot = plt.suptitle('Série Temporal e Previsão')"
      ],
      "metadata": {
        "colab": {
          "base_uri": "https://localhost:8080/",
          "height": 642
        },
        "id": "5-CY_pIUatRo",
        "outputId": "93a15605-0168-4c63-874b-cdf97c8b97b9"
      },
      "execution_count": 46,
      "outputs": [
        {
          "output_type": "display_data",
          "data": {
            "text/plain": [
              "<Figure size 1440x720 with 1 Axes>"
            ],
            "image/png": "[encoded data removed]"
          },
          "metadata": {}
        }
      ]
    },
    {
      "cell_type": "markdown",
      "source": [
        "# 6.2 Exportando valores preditos"
      ],
      "metadata": {
        "id": "pTS5GEfPPBnc"
      }
    },
    {
      "cell_type": "code",
      "source": [
        "previsao_prophet"
      ],
      "metadata": {
        "colab": {
          "base_uri": "https://localhost:8080/"
        },
        "id": "ZTRvU42TPdPk",
        "outputId": "6a2b4728-d7f7-48fb-dbd5-f2ef5ce95519"
      },
      "execution_count": 49,
      "outputs": [
        {
          "output_type": "execute_result",
          "data": {
            "text/plain": [
              "Datetime\n",
              "2015-01-01 00:00:00    30388.714872\n",
              "2015-12-31 01:00:00    28364.357067\n",
              "2015-12-31 02:00:00    26860.068811\n",
              "2015-12-31 03:00:00    25988.419897\n",
              "2015-12-31 04:00:00    25846.837916\n",
              "                           ...     \n",
              "2018-01-01 20:00:00    41261.015237\n",
              "2018-01-01 21:00:00    40488.176727\n",
              "2018-01-01 22:00:00    38858.839033\n",
              "2018-01-01 23:00:00    36650.962942\n",
              "2018-01-02 00:00:00    34325.332954\n",
              "Length: 31440, dtype: float64"
            ]
          },
          "metadata": {},
          "execution_count": 49
        }
      ]
    },
    {
      "cell_type": "code",
      "source": [
        "# Bibliotecas\n",
        "import csv\n",
        "from google.colab import files"
      ],
      "metadata": {
        "id": "EFB-SRk3f99c"
      },
      "execution_count": 47,
      "outputs": []
    },
    {
      "cell_type": "code",
      "source": [
        "# Copiando as colunas de interesse\n",
        "teste['Prophet'] = previsao_prophet\n",
        "teste_prophet = teste['Prophet'].copy()\n",
        "\n",
        "# Transformando de Series para DataFrame\n",
        "teste_prophet = pd.DataFrame(teste_prophet)\n",
        "\n",
        "# Transformando para csv\n",
        "teste_prophet.to_csv('teste_prophet.csv')"
      ],
      "metadata": {
        "id": "EqaM2WhoPF9K"
      },
      "execution_count": 50,
      "outputs": []
    },
    {
      "cell_type": "code",
      "source": [
        "# A célula anterior deixa o csv na máquina virtual\n",
        "# Para guardar na computador\n",
        "files.download(\"teste_prophet.csv\")"
      ],
      "metadata": {
        "colab": {
          "base_uri": "https://localhost:8080/",
          "height": 17
        },
        "id": "8Ay4WIfxPIrX",
        "outputId": "e2bc5376-9bbc-4fe4-c210-dfded6b45026"
      },
      "execution_count": 51,
      "outputs": [
        {
          "output_type": "display_data",
          "data": {
            "text/plain": [
              "<IPython.core.display.Javascript object>"
            ],
            "application/javascript": [
              "\n",
              "    async function download(id, filename, size) {\n",
              "      if (!google.colab.kernel.accessAllowed) {\n",
              "        return;\n",
              "      }\n",
              "      const div = document.createElement('div');\n",
              "      const label = document.createElement('label');\n",
              "      label.textContent = `Downloading \"${filename}\": `;\n",
              "      div.appendChild(label);\n",
              "      const progress = document.createElement('progress');\n",
              "      progress.max = size;\n",
              "      div.appendChild(progress);\n",
              "      document.body.appendChild(div);\n",
              "\n",
              "      const buffers = [];\n",
              "      let downloaded = 0;\n",
              "\n",
              "      const channel = await google.colab.kernel.comms.open(id);\n",
              "      // Send a message to notify the kernel that we're ready.\n",
              "      channel.send({})\n",
              "\n",
              "      for await (const message of channel.messages) {\n",
              "        // Send a message to notify the kernel that we're ready.\n",
              "        channel.send({})\n",
              "        if (message.buffers) {\n",
              "          for (const buffer of message.buffers) {\n",
              "            buffers.push(buffer);\n",
              "            downloaded += buffer.byteLength;\n",
              "            progress.value = downloaded;\n",
              "          }\n",
              "        }\n",
              "      }\n",
              "      const blob = new Blob(buffers, {type: 'application/binary'});\n",
              "      const a = document.createElement('a');\n",
              "      a.href = window.URL.createObjectURL(blob);\n",
              "      a.download = filename;\n",
              "      div.appendChild(a);\n",
              "      a.click();\n",
              "      div.remove();\n",
              "    }\n",
              "  "
            ]
          },
          "metadata": {}
        },
        {
          "output_type": "display_data",
          "data": {
            "text/plain": [
              "<IPython.core.display.Javascript object>"
            ],
            "application/javascript": [
              "download(\"download_ce8ad3e2-0772-488c-a05c-7ea167d35055\", \"teste_prophet.csv\", 1208829)"
            ]
          },
          "metadata": {}
        }
      ]
    }
  ]
}